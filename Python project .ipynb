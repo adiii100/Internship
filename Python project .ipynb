{
 "cells": [
  {
   "cell_type": "markdown",
   "id": "67e2ce1f",
   "metadata": {},
   "source": [
    "***11. Write a python program to find the factorial of a number***"
   ]
  },
  {
   "cell_type": "code",
   "execution_count": 1,
   "id": "681677c9",
   "metadata": {},
   "outputs": [
    {
     "name": "stdout",
     "output_type": "stream",
     "text": [
      "Enter a number: 22\n",
      "The factorial of 22 is 1124000727777607680000\n"
     ]
    }
   ],
   "source": [
    "def factorial(n):\n",
    "    \"\"\"This is a recursive function to find the factorial of an integer\"\"\"\n",
    "    if n == 1:\n",
    "        return 1\n",
    "    else:\n",
    "        return n * factorial(n - 1)\n",
    "\n",
    "num = int(input(\"Enter a number: \"))\n",
    "\n",
    "result = factorial(num)\n",
    "print(f\"The factorial of {num} is {result}\")\n"
   ]
  },
  {
   "cell_type": "markdown",
   "id": "6a9b5bb5",
   "metadata": {},
   "source": [
    "***12. Write a python program to find whether a number is prime or composite***"
   ]
  },
  {
   "cell_type": "code",
   "execution_count": 2,
   "id": "20ceb380",
   "metadata": {},
   "outputs": [
    {
     "name": "stdout",
     "output_type": "stream",
     "text": [
      "Enter a number: 55\n",
      "55 is a composite number\n"
     ]
    }
   ],
   "source": [
    "def is_prime(num):\n",
    "    if num <= 1:\n",
    "        return False\n",
    "    for i in range(2, int(num**0.5) + 1):\n",
    "        if num % i == 0:\n",
    "            return False\n",
    "    return True\n",
    "\n",
    "\n",
    "num = int(input(\"Enter a number: \"))\n",
    "\n",
    "if is_prime(num):\n",
    "    print(f\"{num} is a prime number\")\n",
    "else:\n",
    "    print(f\"{num} is a composite number\")\n"
   ]
  },
  {
   "cell_type": "markdown",
   "id": "732a6ea9",
   "metadata": {},
   "source": [
    "***13.Write a python program to check whether a given string is palindrome or not***"
   ]
  },
  {
   "cell_type": "code",
   "execution_count": 3,
   "id": "11d87115",
   "metadata": {},
   "outputs": [
    {
     "name": "stdout",
     "output_type": "stream",
     "text": [
      "Enter a string: aditya\n",
      "\"aditya\" is not a palindrome\n"
     ]
    }
   ],
   "source": [
    "def is_palindrome(s):\n",
    "    return s == s[::-1]\n",
    "\n",
    "string = input(\"Enter a string: \")\n",
    "\n",
    "if is_palindrome(string):\n",
    "    print(f'\"{string}\" is a palindrome')\n",
    "else:\n",
    "    print(f'\"{string}\" is not a palindrome')\n"
   ]
  },
  {
   "cell_type": "markdown",
   "id": "eea06ca9",
   "metadata": {},
   "source": [
    "***14. Write a Python program to get the third side of right-angled triangle from two given sides***"
   ]
  },
  {
   "cell_type": "code",
   "execution_count": null,
   "id": "2550584b",
   "metadata": {},
   "outputs": [],
   "source": [
    "def find_third_side(a, b, c):\n",
    "    \"\"\"Find the third side of a right-angled triangle given two sides.\n",
    "    One of the sides must be the hypotenuse (c).\"\"\"\n",
    "    if c == 'x':\n",
    "        return (a**2 + b**2)**0.5\n",
    "    elif a == 'x':\n",
    "        return (c**2 - b**2)**0.5\n",
    "    elif b == 'x':\n",
    "        return (c**2 - a**2)**0.5\n",
    "    else:\n",
    "        return \"You know the answer!\"\n",
    "\n",
    "# Input from the user\n",
    "a = input(\"Enter the first side (or 'x' if unknown): \")\n",
    "b = input(\"Enter the second side (or 'x' if unknown): \")\n",
    "c = input(\"Enter the hypotenuse (or 'x' if unknown): \")\n",
    "\n",
    "a = float(a) if a != 'x' else 'x'\n",
    "b = float(b) if b != 'x' else 'x'\n",
    "c = float(c) if c != 'x' else 'x'\n",
    "\n",
    "result = find_third_side(a, b, c)\n",
    "print(f\"The third side is: {result}\")\n"
   ]
  },
  {
   "cell_type": "markdown",
   "id": "25c7f0e0",
   "metadata": {},
   "source": [
    "***15. Write a python program to print the frequency of each of the characters present in a given string***"
   ]
  },
  {
   "cell_type": "code",
   "execution_count": null,
   "id": "65855fdb",
   "metadata": {},
   "outputs": [],
   "source": [
    "def char_frequency(s):\n",
    "    freq = {}\n",
    "    for char in s:\n",
    "        if char in freq:\n",
    "            freq[char] += 1\n",
    "        else:\n",
    "            freq[char] = 1\n",
    "    return freq\n",
    "\n",
    "string = input(\"Enter a string: \")\n",
    "\n",
    "frequency = char_frequency(string)\n",
    "\n",
    "print(\"Character frequencies:\")\n",
    "for char, count in frequency.items():\n",
    "    print(f\"{char}: {count}\")\n"
   ]
  },
  {
   "cell_type": "code",
   "execution_count": null,
   "id": "150d2899",
   "metadata": {},
   "outputs": [],
   "source": []
  }
 ],
 "metadata": {
  "kernelspec": {
   "display_name": "Python 3 (ipykernel)",
   "language": "python",
   "name": "python3"
  },
  "language_info": {
   "codemirror_mode": {
    "name": "ipython",
    "version": 3
   },
   "file_extension": ".py",
   "mimetype": "text/x-python",
   "name": "python",
   "nbconvert_exporter": "python",
   "pygments_lexer": "ipython3",
   "version": "3.11.3"
  }
 },
 "nbformat": 4,
 "nbformat_minor": 5
}
